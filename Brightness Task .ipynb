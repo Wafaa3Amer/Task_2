{
 "cells": [
  {
   "cell_type": "code",
   "execution_count": 1,
   "id": "281e089b",
   "metadata": {},
   "outputs": [],
   "source": [
    "import cv2"
   ]
  },
  {
   "cell_type": "code",
   "execution_count": 2,
   "id": "b5a03694",
   "metadata": {},
   "outputs": [],
   "source": [
    "import numpy as np"
   ]
  },
  {
   "cell_type": "code",
   "execution_count": 3,
   "id": "244336dd",
   "metadata": {},
   "outputs": [],
   "source": [
    "img=cv2.imread('ai.jpg')"
   ]
  },
  {
   "cell_type": "code",
   "execution_count": 4,
   "id": "994b7810",
   "metadata": {},
   "outputs": [],
   "source": [
    "cv2.imshow(\"image\",img)"
   ]
  },
  {
   "cell_type": "code",
   "execution_count": null,
   "id": "6b0d2f41",
   "metadata": {},
   "outputs": [],
   "source": [
    "brightImg=cv2.add(img,100)"
   ]
  },
  {
   "cell_type": "code",
   "execution_count": null,
   "id": "80659347",
   "metadata": {},
   "outputs": [],
   "source": [
    "cv2.imshow(\"With Increase Brightness\",brightImg)\n",
    "cv2.waitKey(0)"
   ]
  },
  {
   "cell_type": "code",
   "execution_count": null,
   "id": "72d14d8b",
   "metadata": {},
   "outputs": [],
   "source": [
    "nBrightImg=cv2.subtract(img,100)"
   ]
  },
  {
   "cell_type": "code",
   "execution_count": null,
   "id": "495b7276",
   "metadata": {},
   "outputs": [],
   "source": [
    "cv2.imshow(\"With decrease Brightness\",nBrightImg)\n",
    "cv2.waitKey(0)"
   ]
  },
  {
   "cell_type": "code",
   "execution_count": null,
   "id": "f004f304",
   "metadata": {},
   "outputs": [],
   "source": []
  }
 ],
 "metadata": {
  "kernelspec": {
   "display_name": "Python 3 (ipykernel)",
   "language": "python",
   "name": "python3"
  },
  "language_info": {
   "codemirror_mode": {
    "name": "ipython",
    "version": 3
   },
   "file_extension": ".py",
   "mimetype": "text/x-python",
   "name": "python",
   "nbconvert_exporter": "python",
   "pygments_lexer": "ipython3",
   "version": "3.9.13"
  }
 },
 "nbformat": 4,
 "nbformat_minor": 5
}
